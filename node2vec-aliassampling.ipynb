{
 "cells": [
  {
   "cell_type": "code",
   "execution_count": 1,
   "metadata": {},
   "outputs": [],
   "source": [
    "def karatecheck(embed): ## karate 그래프 embedding 효과 유무 확인 위한 시각화 코드\n",
    "    \n",
    "    fx_list = []\n",
    "    fy_list = []\n",
    "    fl_list = []\n",
    "    gx_list = []\n",
    "    gy_list = []\n",
    "    gl_list = []\n",
    "    for i in range(len(embed)):\n",
    "        if i in [0,1,2,3,4,5,6,7,8,10,11,12,13,16,17,19,21]:\n",
    "            fx_list.append(embed[i][0])\n",
    "            fy_list.append(embed[i][1])\n",
    "            fl_list.append(i)\n",
    "        else:\n",
    "            gx_list.append(embed[i][0])\n",
    "            gy_list.append(embed[i][1])\n",
    "            gl_list.append(i)\n",
    "    \n",
    "    group1 = [fx_list, fy_list, fl_list]\n",
    "    group2 = [gx_list, gy_list, gl_list]\n",
    "    groups = [group1, group2]\n",
    "    \n",
    "    fig, ax = plt.subplots()\n",
    "    for group in groups:\n",
    "        ax.plot(group[0], group[1], marker='o', linestyle='', ms=15,)\n",
    "        for i, text in enumerate(group[2]):\n",
    "            ax.annotate(text, xy = (group[0][i], group[1][i]))\n",
    "    plt.title('ephoch = {lamda}, K = {K}, NK ={NK}, p = {p}, q = {q}'. format(lamda = lamda, K = K, NK = NK, LR = LR, p = p, q = q))\n",
    "    return plt.show()"
   ]
  },
  {
   "cell_type": "code",
   "execution_count": 2,
   "metadata": {},
   "outputs": [],
   "source": [
    "import numpy as np\n",
    "import networkx as nx\n",
    "import pandas as pd\n",
    "import matplotlib.pyplot as plt\n",
    "import time"
   ]
  },
  {
   "cell_type": "code",
   "execution_count": 3,
   "metadata": {},
   "outputs": [],
   "source": [
    "\n",
    "# Graph Data => networkx 로 입력"
   ]
  },
  {
   "cell_type": "code",
   "execution_count": 4,
   "metadata": {},
   "outputs": [],
   "source": [
    "WW = [0.1, 0.2, 0.3, 0.4]"
   ]
  },
  {
   "cell_type": "code",
   "execution_count": 5,
   "metadata": {},
   "outputs": [],
   "source": [
    "def aliastable(PPP):\n",
    "    \n",
    "    K = len(PPP)\n",
    "    L = list(np.zeros(K, dtype = np.int))\n",
    "    P = list(np.array(PPP.copy(), dtype = np.double)*K)\n",
    "#     print(P)\n",
    "    under = []\n",
    "    over = []\n",
    "    for index, prob in enumerate(P):\n",
    "        if prob < 1:\n",
    "            under.append((index,prob))\n",
    "        elif prob > 1:\n",
    "            over.append((index,prob)) \n",
    "        while over != [] and under !=[]:\n",
    "            u = under.pop()\n",
    "            o = over.pop()\n",
    "            L[u[0]] = o[0]\n",
    "            e = o[1] - (1 - u[1]) \n",
    "            if e == 1: P[o[0]] = 1\n",
    "            elif e <1:\n",
    "                P[o[0]] = e\n",
    "                under.append((o[0], e))\n",
    "            else:\n",
    "                P[o[0]] = e\n",
    "                over.append((o[0], e))\n",
    "    return L, P\n",
    "                \n"
   ]
  },
  {
   "cell_type": "code",
   "execution_count": 6,
   "metadata": {},
   "outputs": [
    {
     "data": {
      "text/plain": [
       "([3, 2, 0, 0], [0.4, 0.8, 1, 1])"
      ]
     },
     "execution_count": 6,
     "metadata": {},
     "output_type": "execute_result"
    }
   ],
   "source": [
    " aliastable(WW)"
   ]
  },
  {
   "cell_type": "code",
   "execution_count": 10,
   "metadata": {},
   "outputs": [],
   "source": [
    "G = nx.karate_club_graph() # karate graph 는 weight 가 없다\n",
    "# weight 가 있는 일반적인 상황을 고려하고자 아래와 같이 uniform weight 를 부여하였다.\n",
    "G = nx.karate_club_graph() # karate 가 아니여도, 애초에 networkx 를 통해 그래프를 만들어두면 편리함\n",
    "A = G.copy()\n",
    "Temp = []\n",
    "for x,y in A.edges:\n",
    "    Temp.append([x,y])\n",
    "Weight = []\n",
    "for i in range(len(A.edges)):\n",
    "    Temp[i].append(1)\n",
    "    Weight.append(Temp[i])\n",
    "A.add_weighted_edges_from(Weight)\n",
    "\n"
   ]
  },
  {
   "cell_type": "code",
   "execution_count": 31,
   "metadata": {},
   "outputs": [
    {
     "data": {
      "text/plain": [
       "4"
      ]
     },
     "execution_count": 31,
     "metadata": {},
     "output_type": "execute_result"
    }
   ],
   "source": [
    "nx.shortest_path_length(A, source = 4, target = 18)"
   ]
  },
  {
   "cell_type": "code",
   "execution_count": 37,
   "metadata": {},
   "outputs": [
    {
     "name": "stdout",
     "output_type": "stream",
     "text": [
      "[0, 1, 1, 1, 1, 1, 1, 1, 1, 2, 1, 1, 1, 1, 3, 3, 2, 1, 3, 1, 3, 1, 3, 3, 2, 2, 3, 2, 2, 3, 2, 1, 2, 2, 1, 0, 1, 1, 2, 2, 2, 1, 2, 2, 2, 2, 2, 1, 3, 3, 3, 1, 3, 1, 3, 1, 3, 3, 3, 3, 3, 2, 2, 3, 1, 2, 2, 2, 1, 1, 0, 1, 2, 2, 2, 1, 1, 1, 2, 2, 2, 1, 2, 2, 3, 2, 2, 2, 2, 2, 2, 2, 2, 3, 3, 1, 1, 2, 2, 2, 1, 2, 1, 1, 1, 0, 2, 2, 2, 1, 2, 2, 2, 2, 1, 1, 3, 3, 3, 2, 3, 2, 3, 2, 3, 3, 3, 3, 3, 2, 2, 3, 2, 2, 2, 2, 1, 2, 2, 2, 0, 2, 1, 2, 2, 3, 1, 2, 2, 2, 4, 4, 2, 2, 4, 2, 4, 2, 4, 4, 3, 3, 4, 3, 3, 4, 3, 2, 3, 3, 1, 2, 2, 2, 2, 0, 1, 2, 2, 3, 1, 2, 2, 2, 4, 4, 1, 2, 4, 2, 4, 2, 4, 4, 3, 3, 4, 3, 3, 4, 3, 2, 3, 3, 1, 2, 2, 2, 1, 1, 0, 2, 2, 3, 2, 2, 2, 2, 4, 4, 1, 2, 4, 2, 4, 2, 4, 4, 3, 3, 4, 3, 3, 4, 3, 2, 3, 3, 1, 1, 1, 1, 2, 2, 2, 0, 2, 2, 2, 2, 2, 2, 3, 3, 3, 2, 3, 2, 3, 2, 3, 3, 3, 3, 4, 2, 2, 3, 2, 2, 2, 3, 1, 2, 1, 2, 2, 2, 2, 2, 0, 2, 2, 2, 2, 2, 2, 2, 3, 2, 2, 2, 2, 2, 2, 2, 3, 3, 2, 2, 2, 2, 1, 2, 1, 1, 2, 2, 1, 2, 3, 3, 3, 2, 2, 0, 3, 3, 3, 2, 2, 2, 4, 3, 2, 2, 2, 3, 2, 2, 3, 3, 2, 2, 2, 2, 2, 2, 2, 1, 1, 2, 2, 2, 1, 1, 2, 2, 2, 3, 0, 2, 2, 2, 4, 4, 2, 2, 4, 2, 4, 2, 4, 4, 3, 3, 4, 3, 3, 4, 3, 2, 3, 3, 1, 2, 2, 2, 2, 2, 2, 2, 2, 3, 2, 0, 2, 2, 4, 4, 3, 2, 4, 2, 4, 2, 4, 4, 3, 3, 4, 3, 3, 4, 3, 2, 3, 3, 1, 2, 2, 1, 2, 2, 2, 2, 2, 3, 2, 2, 0, 2, 4, 4, 3, 2, 4, 2, 4, 2, 4, 4, 3, 3, 4, 3, 3, 4, 3, 2, 3, 3, 1, 1, 1, 1, 2, 2, 2, 2, 2, 2, 2, 2, 2, 0, 2, 2, 3, 2, 2, 2, 2, 2, 2, 2, 3, 3, 2, 2, 2, 2, 2, 2, 2, 1, 3, 3, 2, 3, 4, 4, 4, 3, 2, 2, 4, 4, 4, 2, 0, 2, 5, 4, 2, 2, 2, 4, 2, 2, 3, 3, 2, 2, 2, 2, 2, 2, 1, 1, 3, 3, 2, 3, 4, 4, 4, 3, 2, 2, 4, 4, 4, 2, 2, 0, 5, 4, 2, 2, 2, 4, 2, 2, 3, 3, 2, 2, 2, 2, 2, 2, 1, 1, 2, 3, 3, 3, 2, 1, 1, 3, 3, 4, 2, 3, 3, 3, 5, 5, 0, 3, 5, 3, 5, 3, 5, 5, 4, 4, 5, 4, 4, 5, 4, 3, 4, 4, 1, 1, 2, 2, 2, 2, 2, 2, 2, 3, 2, 2, 2, 2, 4, 4, 3, 0, 4, 2, 4, 2, 4, 4, 3, 3, 4, 3, 3, 4, 2, 2, 3, 3, 3, 3, 2, 3, 4, 4, 4, 3, 2, 2, 4, 4, 4, 2, 2, 2, 5, 4, 0, 2, 2, 4, 2, 2, 3, 3, 2, 2, 2, 2, 2, 2, 1, 1, 1, 1, 2, 2, 2, 2, 2, 2, 2, 2, 2, 2, 2, 2, 2, 2, 3, 2, 2, 0, 2, 2, 2, 2, 3, 3, 2, 2, 2, 2, 2, 2, 2, 1, 3, 3, 2, 3, 4, 4, 4, 3, 2, 2, 4, 4, 4, 2, 2, 2, 5, 4, 2, 2, 0, 4, 2, 2, 3, 3, 2, 2, 2, 2, 2, 2, 1, 1, 1, 1, 2, 2, 2, 2, 2, 2, 2, 3, 2, 2, 2, 2, 4, 4, 3, 2, 4, 2, 4, 0, 4, 4, 3, 3, 4, 3, 3, 4, 2, 2, 3, 3, 3, 3, 2, 3, 4, 4, 4, 3, 2, 2, 4, 4, 4, 2, 2, 2, 5, 4, 2, 2, 2, 4, 0, 2, 3, 3, 2, 2, 2, 2, 2, 2, 1, 1, 3, 3, 2, 3, 4, 4, 4, 3, 2, 2, 4, 4, 4, 2, 2, 2, 5, 4, 2, 2, 2, 4, 2, 0, 2, 1, 2, 1, 2, 1, 2, 2, 1, 1, 2, 3, 2, 3, 3, 3, 3, 3, 3, 3, 3, 3, 3, 3, 3, 3, 4, 3, 3, 3, 3, 3, 3, 2, 0, 1, 3, 1, 2, 3, 3, 1, 2, 2, 2, 3, 3, 3, 3, 3, 3, 3, 3, 3, 3, 3, 3, 3, 3, 3, 4, 3, 3, 3, 3, 3, 3, 1, 1, 0, 3, 2, 2, 2, 3, 1, 2, 2, 3, 3, 3, 3, 4, 4, 4, 4, 2, 2, 4, 4, 4, 2, 2, 2, 5, 4, 2, 2, 2, 4, 2, 2, 3, 3, 0, 2, 2, 1, 2, 2, 2, 1, 2, 2, 1, 2, 3, 3, 3, 2, 2, 2, 3, 3, 3, 2, 2, 2, 4, 3, 2, 2, 2, 3, 2, 1, 1, 2, 2, 0, 2, 2, 2, 2, 2, 1, 2, 2, 1, 2, 3, 3, 3, 2, 2, 2, 3, 3, 3, 2, 2, 2, 4, 3, 2, 2, 2, 3, 2, 2, 2, 2, 2, 2, 0, 2, 2, 1, 2, 1, 3, 3, 2, 3, 4, 4, 4, 3, 2, 2, 4, 4, 4, 2, 2, 2, 5, 4, 2, 2, 2, 4, 2, 1, 3, 2, 1, 2, 2, 0, 2, 2, 1, 1, 2, 1, 2, 2, 3, 3, 3, 2, 1, 2, 3, 3, 3, 2, 2, 2, 4, 2, 2, 2, 2, 2, 2, 2, 3, 3, 2, 2, 2, 2, 0, 2, 1, 1, 1, 2, 2, 2, 2, 2, 2, 2, 2, 2, 2, 2, 2, 2, 2, 2, 3, 2, 2, 2, 2, 2, 2, 2, 1, 1, 2, 2, 1, 2, 2, 0, 1, 1, 2, 2, 1, 2, 3, 3, 3, 2, 1, 2, 3, 3, 3, 2, 1, 1, 4, 3, 1, 2, 1, 3, 1, 1, 2, 2, 2, 2, 2, 1, 1, 1, 0, 1, 2, 2, 2, 2, 3, 3, 3, 3, 1, 1, 3, 3, 3, 1, 1, 1, 4, 3, 1, 1, 1, 3, 1, 1, 2, 2, 1, 1, 1, 1, 1, 1, 1, 0]\n",
      "2.337370242214533\n"
     ]
    }
   ],
   "source": [
    "length = []\n",
    "for x in range(34):\n",
    "    for y in range(34):\n",
    "        length.append(nx.shortest_path_length(A, source = x, target = y))\n",
    "print(length)\n",
    "print(np.average(length))"
   ]
  },
  {
   "cell_type": "code",
   "execution_count": 13,
   "metadata": {},
   "outputs": [
    {
     "data": {
      "text/plain": [
       "2.5"
      ]
     },
     "execution_count": 13,
     "metadata": {},
     "output_type": "execute_result"
    }
   ],
   "source": [
    "a =  [1,2,3,4]\n",
    "np.average(a)"
   ]
  },
  {
   "cell_type": "code",
   "execution_count": 8,
   "metadata": {},
   "outputs": [],
   "source": [
    "adj_list = []\n",
    "for i in range(len(A.nodes)):\n",
    "    adj_list.append(list(dict(A.adj[i]).keys()))\n",
    "NON = 34\n",
    "in_adj_list = adj_list\n",
    "p = 2.0\n",
    "q = 0.2\n",
    "\n",
    "temp = []\n",
    "for i in range(NON):\n",
    "    temp.append([])\n",
    "    for _ in range(len(in_adj_list[i])+1):\n",
    "        temp[-1].append([])\n",
    "        \n",
    "for v in range(NON):\n",
    "    for t in range(len(in_adj_list[v])):\n",
    "        for x in range(len(adj_list[v])):\n",
    "            if adj_list[v][x] == in_adj_list[v][t]:\n",
    "                temp[v][t].append(float(A.adj[v][adj_list[v][x]]['weight'])*(1/p))\n",
    "            elif adj_list[v][x] in adj_list[in_adj_list[v][t]]:\n",
    "                temp[v][t].append(float(A.adj[v][adj_list[v][x]]['weight'])*1)\n",
    "            else:\n",
    "                temp[v][t].append(float(A.adj[v][adj_list[v][x]]['weight'])*(1/q))\n",
    "    for x in range(len(adj_list[v])):\n",
    "        temp[v][-1].append(float(A.adj[v][adj_list[v][x]]['weight'])*1)\n",
    "        \n",
    "    for tt in range(len(temp[v])):\n",
    "        temp[v][tt] = list(np.array(temp[v][tt])/sum(temp[v][tt]))    "
   ]
  },
  {
   "cell_type": "code",
   "execution_count": 40,
   "metadata": {},
   "outputs": [],
   "source": [
    "import numpy as np\n",
    "import networkx as nx\n",
    "import pandas as pd\n",
    "import matplotlib.pyplot as plt\n",
    "import time\n",
    "\n",
    "class n2v:\n",
    "    def __init__(self, G, dim, walks_per_node, length, context_size, NK, p, q, LR):\n",
    "        self.G = G # G는 weighted, directed graph 를 기준으로 코드를 구현. #undirected graph도 무리없이 작동\n",
    "                    # unweight 그래프면 uniform weighted graph 로 만들어준다. 방법은 아래 코드 참조 \n",
    "                    # Temp = []\n",
    "                    # for x,y in A.edges:\n",
    "                    #     Temp.append([x,y])\n",
    "                    # Weight = []\n",
    "                    # for i in range(len(A.edges)):\n",
    "                    #     Temp[i].append(1)\n",
    "                    #     Weight.append(Temp[i])\n",
    "                    # A.add_weighted_edges_from(Weight)\n",
    "\n",
    "        self.dim = dim # 논문 참조\n",
    "        self.lamda = walks_per_node # 논문 참조\n",
    "        self.length = length # 논문 참조 \n",
    "        self.K = context_size # 논문 참조 (Line의 K와 다름의 유의)\n",
    "        self.NK = NK # negative sampling 갯수 (Line 기준 K)\n",
    "        self.p = p # 논문 참조\n",
    "        self.q = q # 논문 참조\n",
    "        self.LR = LR # Learning Rate\n",
    "        self.adj = G.adj # adj list 를 뽑아내는 networkx 의 method\n",
    "        self.edges = G.edges \n",
    "        self.nodes = G.nodes\n",
    "        self.NON = len(G.nodes) # NON = number of nodes\n",
    "# 이후 만들어줄 것\n",
    "        self.preprocessed = None \n",
    "        self.walks = None \n",
    "        self.aliastable_index = None \n",
    "        self.aliastable_prob = None\n",
    "        \n",
    "        self.noise_alias_index = None\n",
    "        self.noise_alias_prob = None\n",
    "\n",
    "        self.ns_alias_index = None \n",
    "        self.ns_alias_prob = None        \n",
    "        \n",
    "        self.phi = np.array(np.random.rand(self.NON, self.dim))\n",
    "        for i in self.phi: \n",
    "            i = np.array(i)\n",
    "\n",
    "        self.adj_list = []\n",
    "        for i in range(len(A.nodes)): self.adj_list.append(list(dict(self.G.adj[i]).keys()))\n",
    "        \n",
    "        self.in_adj_list = []\n",
    "        for i in range(self.NON):\n",
    "            self.in_adj_list.append([])\n",
    "            for j in range(self.NON):\n",
    "                if i in adj_list[j]: \n",
    "                    self.in_adj_list[-1].append(j)\n",
    "                    \n",
    "        self.OD = [] # out_degree\n",
    "        self.ND = [] # noise distribution\n",
    "        for _ in range(len(self.adj_list)):  \n",
    "            self.OD.append(len(self.adj_list[_]))\n",
    "            self.ND.append(float(len(self.adj_list[_]))**(3/4))\n",
    "        \n",
    "        Deno = sum(self.ND)\n",
    "        for _ in range(len(self.ND)):\n",
    "            self.ND[_] = self.ND[_]/Deno\n",
    "        \n",
    "\n",
    "\n",
    "    def preprocessforNS(self): # negative sampling 을 위한 preprocess\n",
    "        pass\n",
    "                        \n",
    "    def preprocess(self): # prob distribution 을 만들어냄.\n",
    "        start = time.time()\n",
    "        self.preprocessed = []\n",
    "        for i in range(self.NON):\n",
    "            self.preprocessed.append([])\n",
    "            for _ in range(len(self.in_adj_list[i])+1):\n",
    "                self.preprocessed[-1].append([])\n",
    "                \n",
    "        for v in range(self.NON):\n",
    "            for t in range(len(self.in_adj_list[v])):\n",
    "                for x in range(len(self.adj_list[v])):\n",
    "                    if self.adj_list[v][x] == self.in_adj_list[v][t]:\n",
    "                        self.preprocessed[v][t].append(float(self.G.adj[v][self.adj_list[v][x]]['weight'])*(1/p))\n",
    "                    elif self.adj_list[v][x] in adj_list[in_adj_list[v][t]]:\n",
    "                        self.preprocessed[v][t].append(float(self.G.adj[v][self.adj_list[v][x]]['weight'])*1)\n",
    "                    else:\n",
    "                        self.preprocessed[v][t].append(float(self.G.adj[v][self.adj_list[v][x]]['weight'])*(1/q))\n",
    "            for x in range(len(self.adj_list[v])):\n",
    "                self.preprocessed[v][-1].append(float(self.G.adj[v][self.adj_list[v][x]]['weight'])*1)\n",
    "\n",
    "            for tt in range(len(self.preprocessed[v])):\n",
    "                self.preprocessed[v][tt] = list(np.array(self.preprocessed[v][tt])/sum(self.preprocessed[v][tt]))     \n",
    "        print(\"Preprocessing time_making prob :\", time.time()-start)\n",
    "        # self.preprocessed 가 완성되어야함\n",
    "    \n",
    "    def aliasmake(self, PPP):\n",
    "        K = len(PPP)\n",
    "        L = list(np.zeros(K, dtype = np.int))\n",
    "        P = list(np.array(PPP.copy(), dtype = np.double)*K)\n",
    "#         print(P)\n",
    "        under = []\n",
    "        over = []\n",
    "        for index, prob in enumerate(P):\n",
    "            if prob < 1:\n",
    "                under.append((index,prob))\n",
    "            elif prob > 1:\n",
    "                over.append((index,prob)) \n",
    "            while over != [] and under !=[]:\n",
    "                u = under.pop()\n",
    "                o = over.pop()\n",
    "                L[u[0]] = o[0]\n",
    "                e = o[1] - (1 - u[1]) \n",
    "                if e == 1: P[o[0]] = 1\n",
    "                elif e <1:\n",
    "                    P[o[0]] = e\n",
    "                    under.append((o[0], e))\n",
    "                else:\n",
    "                    P[o[0]] = e\n",
    "                    over.append((o[0], e))\n",
    "        return L, P\n",
    "    \n",
    "    def aliastable(self):\n",
    "        start = time.time()\n",
    "        self.aliastable_index = []\n",
    "        self.aliastable_prob = []\n",
    "        for i in range(self.NON): # alias 담을 곳 만들기\n",
    "            self.aliastable_index.append([])\n",
    "            for _ in range(len(self.in_adj_list[i])+1):\n",
    "                self.aliastable_index[-1].append([])\n",
    "        \n",
    "        for i in range(self.NON): # alias 담을 곳 만들기\n",
    "            self.aliastable_prob.append([])\n",
    "            for _ in range(len(self.in_adj_list[i])+1):\n",
    "                self.aliastable_prob[-1].append([])\n",
    "        \n",
    "        for i in range(len(self.preprocessed)): \n",
    "            for j in range(len(self.preprocessed[i])):\n",
    "                self.aliastable_index[i][j], self.aliastable_prob[i][j] = self.aliasmake(self.preprocessed[i][j])\n",
    "        print(\"Alias Table making time :\", time.time()-start)\n",
    "                \n",
    "    def nextnode_start_a(self, v):\n",
    "        L = self.aliastable_index[v][-1]\n",
    "        P = self.aliastable_prob[v][-1]\n",
    "        K = len(P)\n",
    "        \n",
    "        kk = int(np.floor(np.random.rand()*K))\n",
    "        if np.random.rand() < P[kk]:\n",
    "            return self.adj_list[v][kk]\n",
    "        else: \n",
    "            return self.adj_list[v][L[kk]] \n",
    "    \n",
    "    def nextnode_a(self, v, t):\n",
    "        L = self.aliastable_index[v][self.in_adj_list[v].index(t)]\n",
    "        P = self.aliastable_prob[v][self.in_adj_list[v].index(t)]\n",
    "        K = len(P)\n",
    "        \n",
    "        kk = int(np.floor(np.random.rand()*K))\n",
    "        if np.random.rand() < P[kk]:\n",
    "            return self.adj_list[v][kk]\n",
    "        else: \n",
    "            return self.adj_list[v][L[kk]] \n",
    "    \n",
    "    def nextnode_start(self, v):\n",
    "        s1 = np.random.choice(self.adj_list[v], 1,  p = self.preprocessed[v][-1])[0]\n",
    "        return s1\n",
    "    \n",
    "    def nextnode(self, v, t):\n",
    "        s2 = np.random.choice(self.adj_list[v], 1,  p = self.preprocessed[v][self.in_adj_list[v].index(t)])[0] \n",
    "        return s2\n",
    "    \n",
    "    def node2vecwalk_a(self, u):\n",
    "        walk = []\n",
    "        walk.append(u)\n",
    "        s3 = self.nextnode_start_a(u)\n",
    "        walk.append(s3)\n",
    "        n = 0 \n",
    "        while n < self.length - 2:\n",
    "            s4 = self.nextnode_a(walk[-1], walk[-2])\n",
    "            walk.append(s4)\n",
    "            n+=1\n",
    "        return walk\n",
    "    \n",
    "    def node2vecwalk(self, u):\n",
    "        walk = []\n",
    "        walk.append(u)\n",
    "        s3 = self.nextnode_start(u)\n",
    "        walk.append(s3)\n",
    "        n = 0 \n",
    "        while n < self.length - 2:\n",
    "            s4 = self.nextnode(walk[-1], walk[-2])\n",
    "            walk.append(s4)\n",
    "            n+=1\n",
    "        return walk\n",
    "    \n",
    "    def makewalks_a(self):\n",
    "        start = time.time()\n",
    "        self.walks = []\n",
    "#         distance = [] # hyper parameter p,q 변화에 따른 walk 시작 노드와 끝 노드 사이 거리 측정용\n",
    "        for _ in range(self.lamda):\n",
    "            Olist = list(np.arange(self.NON))\n",
    "            np.random.shuffle(Olist)\n",
    "            for u in Olist:\n",
    "                self.walks.append(self.node2vecwalk_a(u))\n",
    "                # 아래는 hyper parameter p,q 변화에 따른 walk 시작 노드와 끝 노드 사이 거리 측정용\n",
    "#         for i in self.walks:\n",
    "#             distance.append(nx.shortest_path_length(self.G, source = i[0], target =  i[self.K]))\n",
    "#         print(np.average(distance))\n",
    "        print(\"Random Walks time by aliassampling :\", time.time()-start)\n",
    "    \n",
    "    def makewalks(self):\n",
    "        start = time.time()\n",
    "        self.walks = []\n",
    "        distance = []\n",
    "        for _ in range(self.lamda):\n",
    "            Olist = list(np.arange(self.NON))\n",
    "            np.random.shuffle(Olist)\n",
    "            for u in Olist:\n",
    "                self.walks.append(self.node2vecwalk(u))         \n",
    "        print(\"Random Walks time :\", time.time()-start)\n",
    "                \n",
    "    def sigmoid(self, x):\n",
    "        r = 1.0 / (1.0 + np.exp(-x))\n",
    "        return r\n",
    "\n",
    "    def node2vecupdate(self):\n",
    "        start = time.time()\n",
    "        para = self.phi.copy()\n",
    "        for walk in self.walks:\n",
    "            for idx_s in range(len(walk)-self.K): #idx_s : walk 에서 source word 의 index\n",
    "                S = walk[idx_s]\n",
    "                EH = np.zeros(self.dim)\n",
    "#                 \n",
    "                for idx_n in range(1, self.K+1): # idx_n : walk 에서 neighbor word 의 index - source word의 index\n",
    "                    C = walk[idx_s + idx_n] # network neighbor update\n",
    "                    e = self.sigmoid(np.dot(para[S], para[C])) - 1\n",
    "                    e_nei = e*para[C]\n",
    "                    EH += e_nei\n",
    "                    para[C] -= self.LR * e * para[S]\n",
    "#                     \n",
    "                    kj = 0\n",
    "                    nega_samples = []\n",
    "                    while kj < self.NK: # negative sampling 진행 \n",
    "                        nega_sample = np.random.choice(list(range(self.NON)), 1, p = self.ND, replace = True)[0] # 복원추출허용\n",
    "                        if nega_sample not in self.adj_list[S]:\n",
    "                            nega_samples.append(nega_sample)\n",
    "                            kj+= 1\n",
    "                        else: continue\n",
    "\n",
    "                    for nega in range(self.NK): #negative samples 업데이트\n",
    "                        N = nega_samples[nega]\n",
    "                        e = self.sigmoid(np.dot(para[S], para[N]))\n",
    "                        e_neg = e*para[N]\n",
    "                        EH += e_neg\n",
    "                        para[N] -= self.LR * e * para[S]\n",
    "#                         \n",
    "                    para[S] -= self.LR * EH # source node update\n",
    "        print(\"n2v Undating time :\", time.time()-start)        \n",
    "        return para\n",
    "        \n",
    "        \n",
    "#         self.para 업데이트\n",
    "        "
   ]
  },
  {
   "cell_type": "code",
   "execution_count": 41,
   "metadata": {},
   "outputs": [
    {
     "name": "stdout",
     "output_type": "stream",
     "text": [
      "Preprocessing time_making prob : 0.007975339889526367\n",
      "Alias Table making time : 0.011969804763793945\n",
      "Random Walks time by aliassampling : 0.02892303466796875\n",
      "n2v Undating time : 2.0924460887908936\n"
     ]
    }
   ],
   "source": [
    "# instance = n2v(self, G, dim, walks_per_node, length, context_size, NK, p, q, LR)\n",
    "instance = n2v(A, 2, 20, 6, 3, 2, 5, 1/5, 0.025)\n",
    "instance.preprocess()\n",
    "instance.aliastable()\n",
    "instance.makewalks_a()\n",
    "newpara = instance.node2vecupdate()\n"
   ]
  },
  {
   "cell_type": "code",
   "execution_count": 13,
   "metadata": {},
   "outputs": [],
   "source": [
    "# instance1 = n2v(A, 2, 30, 10, 5, 2, 1/4, 4, 0.025)\n",
    "# instance1.preprocess()\n",
    "# # instance1.aliastable()\n",
    "# instance1.makewalks()\n",
    "# newpara1 = instance.node2vecupdate()"
   ]
  },
  {
   "cell_type": "code",
   "execution_count": null,
   "metadata": {},
   "outputs": [],
   "source": []
  },
  {
   "cell_type": "code",
   "execution_count": 42,
   "metadata": {
    "scrolled": true
   },
   "outputs": [
    {
     "name": "stdout",
     "output_type": "stream",
     "text": [
      "[[-0.36344593 -1.21926331]\n",
      " [-1.30157732 -0.95367058]\n",
      " [-1.15442613 -0.37608804]\n",
      " [-1.0529147  -0.9826281 ]\n",
      " [ 1.07238592 -1.0592955 ]\n",
      " [ 1.18763084 -1.19324173]\n",
      " [ 1.46518888 -1.62626143]\n",
      " [-1.02878385 -0.92824404]\n",
      " [-0.26126889  0.17971215]\n",
      " [-0.39388953  0.24299612]\n",
      " [ 1.27817828 -1.33031032]\n",
      " [-0.14403389 -0.63853279]\n",
      " [-0.44922766 -1.02129255]\n",
      " [-0.98720663 -0.28284528]\n",
      " [ 0.28877592  0.8869642 ]\n",
      " [ 0.1381518   0.9151189 ]\n",
      " [ 0.97553637 -1.04634606]\n",
      " [-0.38543679 -0.75931808]\n",
      " [ 0.19810896  1.03858482]\n",
      " [-0.10885772 -0.28644702]\n",
      " [ 0.16551207  0.904723  ]\n",
      " [-0.4317279  -0.83592121]\n",
      " [ 0.43963968  0.8572456 ]\n",
      " [ 0.05656664  1.03120422]\n",
      " [ 0.62936747  0.46824774]\n",
      " [ 0.4588426   0.30762289]\n",
      " [ 0.3251055   0.94320933]\n",
      " [-0.15307673  0.43155181]\n",
      " [-0.30046642  0.41062312]\n",
      " [ 0.26986653  1.2569551 ]\n",
      " [-0.47743268  0.46515535]\n",
      " [ 0.32553771  0.63142885]\n",
      " [ 0.04669402  1.5674574 ]\n",
      " [-0.0203699   1.37061003]]\n"
     ]
    }
   ],
   "source": [
    "print(newpara)"
   ]
  },
  {
   "cell_type": "code",
   "execution_count": null,
   "metadata": {},
   "outputs": [],
   "source": []
  },
  {
   "cell_type": "code",
   "execution_count": 43,
   "metadata": {},
   "outputs": [],
   "source": [
    "lamda = instance.lamda\n",
    "K = instance.K\n",
    "NK = instance.NK\n",
    "LR = instance.LR\n",
    "p = instance.p\n",
    "q = instance.q"
   ]
  },
  {
   "cell_type": "code",
   "execution_count": 44,
   "metadata": {},
   "outputs": [
    {
     "data": {
      "image/png": "[encoded data removed]",
      "text/plain": [
       "<Figure size 432x288 with 1 Axes>"
      ]
     },
     "metadata": {
      "needs_background": "light"
     },
     "output_type": "display_data"
    }
   ],
   "source": [
    "karatecheck(newpara)"
   ]
  },
  {
   "cell_type": "code",
   "execution_count": 170,
   "metadata": {},
   "outputs": [],
   "source": [
    "lamda = instance1.lamda\n",
    "K = instance1.K\n",
    "NK = instance1.NK\n",
    "LR = instance1.LR\n",
    "p = instance1.p\n",
    "q = instance1.q"
   ]
  },
  {
   "cell_type": "code",
   "execution_count": 171,
   "metadata": {},
   "outputs": [
    {
     "data": {
      "image/png": "[encoded data removed]",
      "text/plain": [
       "<Figure size 432x288 with 1 Axes>"
      ]
     },
     "metadata": {
      "needs_background": "light"
     },
     "output_type": "display_data"
    }
   ],
   "source": [
    "karatecheck(newpara1)"
   ]
  },
  {
   "cell_type": "code",
   "execution_count": null,
   "metadata": {},
   "outputs": [],
   "source": []
  }
 ],
 "metadata": {
  "kernelspec": {
   "display_name": "Python 3",
   "language": "python",
   "name": "python3"
  },
  "language_info": {
   "codemirror_mode": {
    "name": "ipython",
    "version": 3
   },
   "file_extension": ".py",
   "mimetype": "text/x-python",
   "name": "python",
   "nbconvert_exporter": "python",
   "pygments_lexer": "ipython3",
   "version": "3.7.3"
  }
 },
 "nbformat": 4,
 "nbformat_minor": 2
}
